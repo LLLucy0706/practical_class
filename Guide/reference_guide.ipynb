{
 "cells": [
  {
   "cell_type": "markdown",
   "metadata": {},
   "source": [
    "# Practical Session Appendix\n",
    "\n",
    "## Reference Guide\n",
    "\n",
    "### Objective \n",
    "\n",
    "Python libraries are Python files that contain definitions of functions and objects. These functions and objects can be used within your code by importing them with the `import` keyword. There are a large number of available python libraries that you can use. Some of the standard python libraries (that come with Python by default) that you should consider learning are `sys` (system), `os` (operating system) and `re` (regular expressions). We have written libraries that we will use during this course.This guide aims to introduce some (not all) functions and classes from the libraries.\n",
    "\n",
    "### Outline\n",
    "* Example classes Sequence and Alphabet\n",
    "* Files\n",
    "    * DNA and protein sequence data\n",
    "    * Sequence alignments\n",
    "    * Phylogenetic trees\n",
    "    * Genome sequence: 2-bit files\n",
    "    * Browser Extensible Data (BED) files\n",
    "    * Gene expression\n"
   ]
  },
  {
   "cell_type": "markdown",
   "metadata": {},
   "source": [
    "\n",
    "---\n",
    "\n",
    "## Example classes Sequence and Alphabet ##\n",
    "\n",
    "Previously we have represented biological sequences as text strings and we will keep doing that. However, biological sequences are made up of much fewer symbols than there are characters. When we analyse sequences we need to define all possible symbols that can occur, so we can find errors, count them and define “sequence patterns” etc. \n",
    "\n",
    "So we will define an `Alphabet` class. This will be used to define the `Sequence` class, which will have methods for counting and finding symbols. All of that will be made permanent by means of modules. Then we can truly start doing serious work with sequences. A reduced version of the `Sequence` and `Alphabet` classes are shown below."
   ]
  },
  {
   "cell_type": "code",
   "execution_count": 1,
   "metadata": {},
   "outputs": [],
   "source": [
    "class Alphabet():\n",
    "    \"\"\" A minimal class for alphabets \"\"\"\n",
    "    def __init__(self, symbolString):\n",
    "        self.symbols = symbolString\n",
    "    def __len__(self):              # implements the \"len\" operator\n",
    "        return len(self.symbols)\n",
    "    def __contains__(self, sym):    # implements the \"in\" operator\n",
    "        return sym in self.symbols\n",
    "\"\"\" Below we declare alphabets that are going to be available when \n",
    "this module is imported \"\"\" \n",
    "DNA_Alphabet = Alphabet('ACGT')\n",
    "RNA_Alphabet = Alphabet('ACGU')\n",
    "Protein_Alphabet = Alphabet('ACDEFGHIKLMNPQRSTVWY')\n",
    "\n",
    "class Sequence():\n",
    "    \"\"\" A biological sequence class. Stores the sequence itself, \n",
    "        the alphabet and a name. \"\"\"\n",
    "    def __init__(self, sequence, alphabet, name):\n",
    "        for sym in sequence:\n",
    "            if not sym in alphabet:  # error check: bail out\n",
    "                raise RuntimeError('Invalid symbol: ' + sym)\n",
    "        self.sequence = sequence\n",
    "        self.alphabet = alphabet\n",
    "        self.name = name\n",
    "    def __len__(self):      # the \"len\" operator\n",
    "        return len(self.sequence)\n",
    "    def writeFasta(self):\n",
    "        \"\"\" Write one sequence in FASTA format to a string and return it \"\"\"\n",
    "        fasta = '>' + self.name + '\\n'\n",
    "        data = self.sequence\n",
    "        nlines = (len(self.sequence) - 1) // 60 + 1\n",
    "        for i in range(nlines):\n",
    "            lineofseq = ''.join(data[i*60 : (i+1)*60]) + '\\n'\n",
    "            fasta += lineofseq\n",
    "        return fasta\n",
    "    def __str__(self):\n",
    "        return self.writeFasta()\n",
    "    def getcount(self, findme):\n",
    "        \"\"\" Get the number of occurrences of specified symbol \"\"\"\n",
    "        cnt = 0\n",
    "        for sym in self.sequence:\n",
    "            if findme == sym:\n",
    "                cnt = cnt + 1\n",
    "        return cnt\n",
    "    def find(self, findme):\n",
    "        \"\"\" Find the position of the symbol or sub-sequence \"\"\"\n",
    "        return self.sequence.find(findme)"
   ]
  },
  {
   "cell_type": "markdown",
   "metadata": {},
   "source": [
    "These classes are not specific to DNA, RNA or proteins. They can be used for virtually any size alphabet or any length of sequence. The `__init__` function ensures that any alphabet or sequence is properly initialised before they are used: an alphabet is necessarily defined in terms of a list of symbols; a sequence always has a name, an alphabet and a sequence that is checked so that it does not have any symbols not defined by the alphabet. (Note we create three variables that correspond to these in the module.)\n",
    "\n",
    "There are many so-called operators in Python, e.g. `==`, `in` and `len(obj` that are defined over objects from classes. Above, we define the len operator for both the `Alphabet` and `Sequence` class by implementing the function `__len__`. The `in` operator that is used on the `Alphabet` class in the `Sequence` `__init__` function (if not sym in alphabet) is defined by implementing the `__contains__` function (see the `Alphabet` class).\n",
    "\n",
    "To see how we can use them."
   ]
  },
  {
   "cell_type": "code",
   "execution_count": 2,
   "metadata": {},
   "outputs": [
    {
     "data": {
      "text/plain": [
       "3"
      ]
     },
     "execution_count": 2,
     "metadata": {},
     "output_type": "execute_result"
    }
   ],
   "source": [
    "myseq = Sequence('AGCCCGGAT', DNA_Alphabet, 'MyDNA')\n",
    "myseq.getcount('G')"
   ]
  },
  {
   "cell_type": "code",
   "execution_count": 3,
   "metadata": {},
   "outputs": [
    {
     "data": {
      "text/plain": [
       "4"
      ]
     },
     "execution_count": 3,
     "metadata": {},
     "output_type": "execute_result"
    }
   ],
   "source": [
    "myseq.find('CGG')"
   ]
  },
  {
   "cell_type": "markdown",
   "metadata": {},
   "source": [
    "---\n",
    "\n",
    "## Files\n",
    "\n",
    "Files are used to permanently store data. Many files but not all are text files, meaning that it is possible to view and edit them using a text editor, e.g. TextWrangler on Macs, Notepad on Windows PCs and emacs on Linux machines. To increase portability and readability, text files are often used for storing biological data. The information in them usually follows some pre-defined template or format. For example, biological sequence data is often stored in FASTA files (use a `.fa` or `.fasta` file extension).\n",
    "\n",
    "Below we illustrate a couple of file formats, but these should only be seen as examples and you may not want to look at the code to carefully."
   ]
  },
  {
   "cell_type": "markdown",
   "metadata": {},
   "source": [
    "### DNA and protein sequence data\n",
    "FASTA is by far the most popular file format for biological sequence data. A FASTA file contains a so-called defline that starts with a `>` then the name of the sequence followed on the same line by other information. The lines before the next `>` or `end-of-file` is the sequence data. The symbols used depend on what type of sequence. The following code consists of two methods where one calls the other and read a file on the FASTA format. It creates a sequence object for each entry in a specified file. (The definition of the used Sequence class is provided in the previous section of this guide.)"
   ]
  },
  {
   "cell_type": "code",
   "execution_count": 4,
   "metadata": {},
   "outputs": [],
   "source": [
    "def readFastaString(string, alphabet):\n",
    "    \"\"\" Read the given string as FASTA formatted data and return \n",
    "        the list of sequences contained within it. \"\"\"\n",
    "    seqlist = []    # list of sequences contained in the string \n",
    "    seqname = None  # name of *current* sequence \n",
    "    seqdata = []    # sequence data for *current* sequence\n",
    "    for line in string.splitlines():    # read every line\n",
    "        if len(line) == 0:              # ignore empty lines\n",
    "            continue\n",
    "        if line[0] == '>':  # start of new sequence            \n",
    "            if seqname:     # check if we've got one current\n",
    "                current = Sequence(seqdata, alphabet, seqname)\n",
    "                seqlist.append(current)\n",
    "            # now collect data about the new sequence\n",
    "            seqname = line[1:].split()[0] # skip first char\n",
    "            seqdata = []\n",
    "        else: # we assume this is (more) data for current\n",
    "            cleanline = line.split()\n",
    "            for thisline in cleanline:\n",
    "                seqdata.extend(tuple(thisline.strip('*')))\n",
    "    # we're done reading the file, but the last sequence remains\n",
    "    if seqname:\n",
    "        lastseq = Sequence(seqdata, alphabet, seqname)\n",
    "        seqlist.append(lastseq)\n",
    "    return seqlist\n",
    "\n",
    "def readFastaFile(filename, alphabet):\n",
    "    \"\"\" Read the given FASTA formatted file and return the list \n",
    "        of sequences contained within it. \"\"\"\n",
    "    fh = open(filename)\n",
    "    data = fh.read()\n",
    "    fh.close()\n",
    "    seqlist = readFastaString(data, alphabet)\n",
    "    return seqlist"
   ]
  },
  {
   "cell_type": "markdown",
   "metadata": {},
   "source": [
    "### Sequence alignment\n",
    "\n",
    "Aligned sequences are organised in a logical way that can help identify conserved regions and, by comparing similarity of sequence, can tell us which sequences are closely or more distantly related. Multiple sequence alignments (MSAs) form the basis of much of phylogenetic analysis. \"Good\" sequence alignments can indicate evolutionary relationships between sequences at the level of individual positions, i.e. that they originate from the same ancestral sequence. Insertions and deletions are indicated through the presence of gaps. Alignments are used for different types of sequence (e.g. DNA or protein).\n",
    "\n",
    "As programmers we need to create suitable data structures for the represented data, so that methods can operate on them effectively. `guide.py` contains a class of specific interest: `Alignment`.\n",
    "\n",
    "There are several functions for reading and writing alignments to files. `.aln` files follow the so-called `Clustal` format and contain collections of aligned sequences. (You can use the FASTA format to store sequence alignments by padding the sequences with a gap character `-`, ensuring that all sequences are of the same length.)"
   ]
  },
  {
   "cell_type": "code",
   "execution_count": 5,
   "metadata": {},
   "outputs": [],
   "source": [
    "def readClustalString(string, alphabet):\n",
    "    \"\"\" Read a ClustalW2 alignment in the given string and return as an Alignment object. \"\"\"\n",
    "    seqs = {} # sequence data\n",
    "    for line in string.splitlines():\n",
    "        if line.startswith('CLUSTAL') or line.startswith('STOCKHOLM') or line.startswith('#'):\n",
    "            continue\n",
    "        if len(line.strip()) == 0:\n",
    "            continue\n",
    "        if line[0] == ' ' or '*' in line or ':' in line:\n",
    "            continue\n",
    "        sections = line.split()\n",
    "        name, seq = sections[0:2]\n",
    "        if seqs.has_key(name):\n",
    "            seqs[name] += seq\n",
    "        else:\n",
    "            seqs[name] = seq\n",
    "    sequences = []\n",
    "    for name, seq in seqs.items():\n",
    "        sequences.append(Sequence(seq, alphabet, name, gappy = True))\n",
    "    return Alignment(sequences)\n",
    "\n",
    "def readClustalFile(filename, alphabet):\n",
    "    \"\"\" Read a ClustalW2 alignment file and return an Alignment object\n",
    "    containing the alignment. \"\"\"\n",
    "    fh = open(filename)\n",
    "    data = fh.read()\n",
    "    fh.close()\n",
    "    aln = readClustalString(data, alphabet)\n",
    "    return aln"
   ]
  },
  {
   "cell_type": "markdown",
   "metadata": {},
   "source": [
    "### Phylogenetic tree\n",
    "\n",
    "Phylogenetic trees are used to represent and visualise the ancestral relationship between multiple genotypes. The Newick (or New Hampshire) tree format is a way of writing a tree in a simple text format. Each split in the tree is written as the two ends of the split in brackets, separated by a comma.\n",
    "\n",
    "For example, assume you have four genotypes, `A`, `B`, `C` and `D`. You write that `A` is linked to `B` with `(A, B)`, and that `C` is linked to `D` as `(C, D)`; then these two pairs are linked together is written as `((A, B), (C, D))`. And it works for arbitrarily large, and potentially imbalanced trees.\n",
    "\n",
    "There are methods to both read and write Newick files in `guide.py` but you need to inspect the Python code if you want to understand them."
   ]
  },
  {
   "cell_type": "markdown",
   "metadata": {},
   "source": [
    "### Genome sequence: 2-bit files\n",
    "\n",
    "A 2-bit file is a compact binary file that contain the DNA sequence for a whole genome, divided into chromosomes. You address specific parts of the genome by chromosome name (e.g. \"chr22\") and a start and end location (e.g. 1000000 and 1000100). There is currently no provision for them in guide.py but you'll find it in `seqdata.py`."
   ]
  },
  {
   "cell_type": "markdown",
   "metadata": {},
   "source": [
    "### Browser Extensible Data: BED files\n",
    "\n",
    "Available in `seqdata.py`."
   ]
  },
  {
   "cell_type": "markdown",
   "metadata": {},
   "source": [
    "### Gene expression\n",
    "\n",
    "Another common file format in bioinformatics is for gene expression data: the GEO/SOFT format. It is designed to capture information produced by microarrays, intensity levels of many thousands of probes (corresponding to sections of DNA). A line in the main section of a file first contains a probe identifier, a gene name followed by (on the same line) a possibly large number of numeric values (intensities, possibly processed in some way).\n",
    "\n",
    "In the beginning of this file there is also information about what those values mean, and the following code designed to read such files disregard most of this sometimes-important information. The following function will read a GEO file and create a dictionary with an entry for each probe/gene name (key) and all numeric values."
   ]
  },
  {
   "cell_type": "code",
   "execution_count": 6,
   "metadata": {},
   "outputs": [],
   "source": [
    "class GeneProfile():\n",
    "    \"\"\" A class for gene expression data.\n",
    "    Example usage:\n",
    "    >>> gp = GeneProfile('MyMicroarray', ['Exp1', 'Exp2'])\n",
    "    >>> gp['gene1'] = [0.1, 0.5]\n",
    "    >>> gp['gene2'] = [2, 1]\n",
    "    >>> gp.getSample('Exp2')\n",
    "    {'gene1': [0.5], 'gene2': [1.0]}\n",
    "    \"\"\"\n",
    "    def __init__(self, dataset_name='', sample_names=[], profiles = None):\n",
    "        \"\"\" Create a gene profile set. \"\"\"\n",
    "        self.name = dataset_name\n",
    "        self.samples = sample_names\n",
    "        self.genes = profiles or {} # dictionary for storing all gene--measurement pairs\n",
    "    def __setitem__(self, name, probevalues):\n",
    "        if len(probevalues) == len(self.samples):\n",
    "            self.genes[name] = [float(y) for y in probevalues]\n",
    "        else:\n",
    "            raise RuntimeError('Invalid number of measurements for probe ' + name)\n",
    "    def __getitem__(self, name):\n",
    "        return self.genes[name]\n",
    "    def getSorted(self, index, descending=True):\n",
    "        \"\"\"Get a list of (gene, value) tuples in descending order by value\"\"\"\n",
    "        key_fn = lambda v: v[1][index]\n",
    "        return sorted(list(self.genes.items()), key=key_fn, reverse=descending)\n",
    "    def getSample(self, sample_name):\n",
    "        \"\"\"Construct a gene dictionary including only named samples. \"\"\"\n",
    "        mygenes = {}\n",
    "        if isinstance(sample_name, str):    # a single sample-name\n",
    "            mysamples = [sample_name]\n",
    "        else:                               # a list of sample-names\n",
    "            mysamples = sample_name\n",
    "        for gene in self.genes:\n",
    "            mygenes[gene] = []\n",
    "            for name in mysamples:\n",
    "                mygenes[gene].append(self.genes[gene][self.samples.index(name)])\n",
    "        return mygenes\n",
    "    def __str__(self):\n",
    "        \"\"\" Display data as a truncated GEO SOFT file named filename. \"\"\"\n",
    "        line = '^DATASET = ' + self.dataset + '\\n'\n",
    "        line += '!dataset_table_begin\\nID_REF\\t'\n",
    "        for header in self.headers:\n",
    "            line += header + '\\t'\n",
    "        line += '\\n'\n",
    "        for gene in self.genes:\n",
    "            line += gene + '\\t'\n",
    "            values = self.genes[gene]\n",
    "            for value in values:\n",
    "                line += format(value, '5.3f') + '\\t'\n",
    "            line += '\\n'\n",
    "        line += '!dataset_table_end\\n'\n",
    "    def writeGeoFile(self, filename):\n",
    "        fh = open(filename, 'w')\n",
    "        fh.write(str(self))\n",
    "        fh.close()\n",
    "        \n",
    "def readGeoFile(filename, id_column = 0):\n",
    "    \"\"\" Read a Gene Expression Omnibus SOFT file. \"\"\"\n",
    "    dataset = None\n",
    "    fh = open(filename, \"r\")\n",
    "    manylines = fh.read()\n",
    "    fh.close()\n",
    "    data_rows = False  # Indicates whether we're reading the data section or metadata\n",
    "    name = u'Unknown'\n",
    "    cnt_data = 0\n",
    "    for line in manylines.splitlines():\n",
    "        if line.startswith('^DATASET'):\n",
    "            name = line.split('= ')[1]\n",
    "            continue\n",
    "        data_rows = line.startswith('!dataset_table_begin')\n",
    "        data_rows = not line.startswith('!dataset_table_end')\n",
    "        if len(line.strip()) == 0 or line.startswith('!') or line.startswith('#') or line.startswith('^'):\n",
    "            continue\n",
    "        if data_rows:\n",
    "            cnt_data += 1\n",
    "            if (cnt_data == 1):  # First line contains the headers\n",
    "                headers = line.split('\\t')\n",
    "                dataset = GeneProfile(name, headers[2:])  # Create the data set\n",
    "                continue\n",
    "            ignore = (dataset == None)  # ignore the row if the dataset is not initialised\n",
    "            id = line.split('\\t')[id_column]\n",
    "            values = []\n",
    "            cnt_word = 0\n",
    "            for word in line.split('\\t'):\n",
    "                cnt_word += 1\n",
    "                if cnt_word <= (id_column + 1): # ignore the gene names\n",
    "                    continue\n",
    "                if word == 'null':\n",
    "                    ignore = True # ignore gene if a value is null\n",
    "                    continue\n",
    "                try:\n",
    "                    values.append(float(word))\n",
    "                except:  # ignore values that are not \"float\"\n",
    "                    continue\n",
    "            if not ignore:\n",
    "                dataset[id] = tuple(values)\n",
    "    print('Data set %s contains %d genes' % (name, len(dataset.genes)))\n",
    "    return dataset"
   ]
  },
  {
   "cell_type": "markdown",
   "metadata": {},
   "source": [
    "With this code in place, you can read a GEO file that you perhaps downloaded from NCBI’s Gene Expression Omnibus (http://www.ncbi.nlm.nih.gov/geo/)."
   ]
  }
 ],
 "metadata": {
  "kernelspec": {
   "display_name": "Python 3",
   "language": "python",
   "name": "python3"
  },
  "language_info": {
   "codemirror_mode": {
    "name": "ipython",
    "version": 3
   },
   "file_extension": ".py",
   "mimetype": "text/x-python",
   "name": "python",
   "nbconvert_exporter": "python",
   "pygments_lexer": "ipython3",
   "version": "3.7.6"
  }
 },
 "nbformat": 4,
 "nbformat_minor": 1
}
