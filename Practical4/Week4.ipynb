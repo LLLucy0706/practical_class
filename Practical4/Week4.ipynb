{
 "cells": [
  {
   "cell_type": "markdown",
   "metadata": {},
   "source": [
    "# Practical 4\n",
    "\n",
    "## Analysing DNA elements to understand transcriptional regulation\n",
    "---\n",
    "\n",
    "### Objectives and assessment\n",
    "\n",
    "In this practical:\n",
    "* You learn about issues related to processing genome-wide assays and mapping them to a genome reference sequence\n",
    "* You become familiar with a few file formats that are used for storing genome-wide data\n",
    "* You work with epigenetic and transcription factor binding data\n",
    "* You work with transcription factor binding motifs to determine their enrichment in regulatory sequences\n",
    "* You learn practical approaches to understand transcriptional regulation\n",
    "\n",
    "### Relevant code\n",
    "* `twobit.py` Read full genome sequences on the .2bit format\n",
    "* `bed.py` and `ival.py` File formats for genome wide data; methods for reading and extracting data\n",
    "* `sym.py` References to the DNA alphabet\n",
    "* `sequence.py` Biological sequence processing; sequence motifs\n",
    "* `prob.py` Probability distributions"
   ]
  },
  {
   "cell_type": "code",
   "execution_count": 1,
   "metadata": {},
   "outputs": [],
   "source": [
    "import sym      # we are going to make reference to sequence alphabets\n",
    "import sequence # for constructing sequences from genome reference data\n",
    "import twobit   # for reading genome reference sequence data\n",
    "import bed      # for processing files on the BED format\n",
    "import prob     # for motif data\n",
    "import rcdict   # dictionary of DNA sequence, which does not distinguish between strands"
   ]
  },
  {
   "cell_type": "markdown",
   "metadata": {},
   "source": [
    "You will be using Numpy and matplotlib, so those standard libraries need to be imported too. We suggest that you make matplotlib plot its plots \"in-line\" so that visual results are available in the same notebook."
   ]
  },
  {
   "cell_type": "code",
   "execution_count": 2,
   "metadata": {},
   "outputs": [],
   "source": [
    "import math\n",
    "import numpy as np\n",
    "import matplotlib.pyplot as plt\n",
    "%matplotlib inline"
   ]
  },
  {
   "cell_type": "markdown",
   "metadata": {},
   "source": [
    "<a id=\"Exercise1\"></a>\n",
    "## Exercise 1: Analysing genome data\n",
    "\n",
    "Before getting to the exercises we need to gain access to and understand three biologically different types of data. (See the Week 7 notebook for more.)"
   ]
  },
  {
   "cell_type": "markdown",
   "metadata": {},
   "source": [
    "### Biological data type I: Genome reference data\n",
    "The portal for the UCSC Genome Browser (http://genome.ucsc.edu) contains the reference sequence and working draft assemblies for a large collection of genomes. We will use the 2009 assembly for human, also referred to as hg19 (see http://hgdownload.soe.ucsc.edu/downloads.html).\n",
    "\n",
    "The human genome is large (3Gb) so we will use a compressed format known as ‘2bit’ where each base is represented by 2 ‘bits’. Caution: the file is about 800MB. In the computer lab, there will be a USB with it. If you are on campus, you can download the genome from the local server, but the server will struggle if many do this at the same time. You can also download it from UCSC. Make sure you save the file in the notebook directory (or remember to reference it by the directory where you put it).\n",
    "\n",
    "http://hgdownload.soe.ucsc.edu/goldenPath/hg19/bigZips/hg19.2bit\n",
    "\n",
    "Fire up Python and use the module `twobit.py` to have a closer look."
   ]
  },
  {
   "cell_type": "code",
   "execution_count": 3,
   "metadata": {
    "scrolled": false
   },
   "outputs": [
    {
     "name": "stdout",
     "output_type": "stream",
     "text": [
      "chr1\n",
      "chr2\n",
      "chr3\n",
      "chr4\n",
      "chr5\n",
      "chr6\n",
      "chr7\n",
      "chrX\n",
      "chr8\n",
      "chr9\n",
      "chr10\n",
      "chr11\n",
      "chr12\n",
      "chr13\n",
      "chr14\n",
      "chr15\n",
      "chr16\n",
      "chr17\n",
      "chr18\n",
      "chr20\n",
      "chrY\n",
      "chr19\n",
      "chr22\n",
      "chr21\n",
      "chr6_ssto_hap7\n",
      "chr6_mcf_hap5\n",
      "chr6_cox_hap2\n",
      "chr6_mann_hap4\n",
      "chr6_apd_hap1\n",
      "chr6_qbl_hap6\n",
      "chr6_dbb_hap3\n",
      "chr17_ctg5_hap1\n",
      "chr4_ctg9_hap1\n",
      "chr1_gl000192_random\n",
      "chrUn_gl000225\n",
      "chr4_gl000194_random\n",
      "chr4_gl000193_random\n",
      "chr9_gl000200_random\n",
      "chrUn_gl000222\n",
      "chrUn_gl000212\n",
      "chr7_gl000195_random\n",
      "chrUn_gl000223\n",
      "chrUn_gl000224\n",
      "chrUn_gl000219\n",
      "chr17_gl000205_random\n",
      "chrUn_gl000215\n",
      "chrUn_gl000216\n",
      "chrUn_gl000217\n",
      "chr9_gl000199_random\n",
      "chrUn_gl000211\n",
      "chrUn_gl000213\n",
      "chrUn_gl000220\n",
      "chrUn_gl000218\n",
      "chr19_gl000209_random\n",
      "chrUn_gl000221\n",
      "chrUn_gl000214\n",
      "chrUn_gl000228\n",
      "chrUn_gl000227\n",
      "chr1_gl000191_random\n",
      "chr19_gl000208_random\n",
      "chr9_gl000198_random\n",
      "chr17_gl000204_random\n",
      "chrUn_gl000233\n",
      "chrUn_gl000237\n",
      "chrUn_gl000230\n",
      "chrUn_gl000242\n",
      "chrUn_gl000243\n",
      "chrUn_gl000241\n",
      "chrUn_gl000236\n",
      "chrUn_gl000240\n",
      "chr17_gl000206_random\n",
      "chrUn_gl000232\n",
      "chrUn_gl000234\n",
      "chr11_gl000202_random\n",
      "chrUn_gl000238\n",
      "chrUn_gl000244\n",
      "chrUn_gl000248\n",
      "chr8_gl000196_random\n",
      "chrUn_gl000249\n",
      "chrUn_gl000246\n",
      "chr17_gl000203_random\n",
      "chr8_gl000197_random\n",
      "chrUn_gl000245\n",
      "chrUn_gl000247\n",
      "chr9_gl000201_random\n",
      "chrUn_gl000235\n",
      "chrUn_gl000239\n",
      "chr21_gl000210_random\n",
      "chrUn_gl000231\n",
      "chrUn_gl000229\n",
      "chrM\n",
      "chrUn_gl000226\n",
      "chr18_gl000207_random\n"
     ]
    }
   ],
   "source": [
    "hg19 = twobit.TwoBitFile('hg19.2bit')  # assumes that the genome is stored in your current directory\n",
    "for key in hg19:\n",
    "    print (key)"
   ]
  },
  {
   "cell_type": "markdown",
   "metadata": {},
   "source": [
    "To Python hg19 is a dictionary. The for-loop will show you the main pieces that make up the genome. No prizes for guessing what they correspond to… You can access each chromosome separately, but be careful not to print the actual sequence unless you provide a ‘genome location index’ or ‘range’, as exemplified below. You now have every single base in the human (reference) genome at your fingertips! \n",
    "\n",
    "Try to understand what the following three lines actually mean as you execute them. No need to write it down."
   ]
  },
  {
   "cell_type": "code",
   "execution_count": 4,
   "metadata": {},
   "outputs": [
    {
     "data": {
      "text/plain": [
       "<twobit.TwoBitSequence at 0x107fda828>"
      ]
     },
     "execution_count": 4,
     "metadata": {},
     "output_type": "execute_result"
    }
   ],
   "source": [
    "hg19['chrX']"
   ]
  },
  {
   "cell_type": "code",
   "execution_count": 5,
   "metadata": {},
   "outputs": [
    {
     "data": {
      "text/plain": [
       "155270560"
      ]
     },
     "execution_count": 5,
     "metadata": {},
     "output_type": "execute_result"
    }
   ],
   "source": [
    "len(hg19['chrX'])"
   ]
  },
  {
   "cell_type": "code",
   "execution_count": 6,
   "metadata": {},
   "outputs": [
    {
     "data": {
      "text/plain": [
       "'AAAcagctacttggaaggctgaagcaggaggattgtttgagtctaggagtttgaggctgc'"
      ]
     },
     "execution_count": 6,
     "metadata": {},
     "output_type": "execute_result"
    }
   ],
   "source": [
    "hg19['chrX'][1000000:1000060]"
   ]
  },
  {
   "cell_type": "markdown",
   "metadata": {},
   "source": [
    "At this stage you should realise why **you should *not* do this**:\n",
    "```python\n",
    "print (hg19['chrX'])\n",
    "```"
   ]
  },
  {
   "cell_type": "markdown",
   "metadata": {},
   "source": [
    "### Biological data type II: Gene annotation data\n",
    "\n",
    "Later we will need to know where genes are placed in the human reference genome, in particular where their transcription start sites are located. \n",
    "\n",
    "The UCSC Genome website has a ‘Table browser’ (select menu “Tables”, check the appropriate options—default should do it (knownGene), select BED-browser extensible data output format, click “get output”, select “1” bp upstream, and download file. (`hum_TSS.bed` is already in your data directory.) \n",
    "\n",
    "Repeat the download but this time choose 1000 bp upstream, and name the file differently. (`hum_prom.bed` is already in your directory.)\n",
    "\n",
    "Familiarise yourself with the BED format. You can look at the file in a normal text editor. `bed.py` has functionality to process the data too. Each entry describes a genomic region. Notice that the most basic entry has three fields, namely *Chromosome*, *start locus*, and *end locus*. More complicated variants will annotate a region with information."
   ]
  },
  {
   "cell_type": "code",
   "execution_count": 7,
   "metadata": {},
   "outputs": [
    {
     "name": "stdout",
     "output_type": "stream",
     "text": [
      "The BED file has this many entries: 51384\n",
      "When sorted, number 1 looks like this: chr1:11872-11873+\n",
      "When sorted, number 2 looks like this: chr1:11872-11873+\n",
      "When sorted, number 3 looks like this: chr1:11872-11873+\n",
      "When sorted, number 4 looks like this: chr1:16765-16766-\n",
      "When sorted, number 5 looks like this: chr1:17751-17752-\n",
      "When sorted, number 6 looks like this: chr1:18061-18062-\n",
      "When sorted, number 7 looks like this: chr1:19759-19760-\n",
      "When sorted, number 8 looks like this: chr1:19759-19760-\n",
      "When sorted, number 9 looks like this: chr1:19759-19760-\n",
      "The chromosome of that final entry is: chr1\n",
      "The start site of that final entry is: 19759\n",
      "The end site of that final entry is: 19760\n",
      "More info on this entry: strand is - and name is uc009vit.3_up_1_chr1_19760_r\n"
     ]
    }
   ],
   "source": [
    "tss = bed.BedFile('hum_TSS.bed', 'Optional')\n",
    "print ('The BED file has this many entries:', len(tss))\n",
    "cnt = 0\n",
    "for e in tss:\n",
    "    cnt += 1\n",
    "    print('When sorted, number ' + str(cnt) + ' looks like this:', e)\n",
    "    if cnt >= 9:\n",
    "        break\n",
    "print('The chromosome of that final entry is:', e.chrom)\n",
    "print('The start site of that final entry is:', e.chromStart)\n",
    "print('The end site of that final entry is:', e.chromEnd)\n",
    "print('More info on this entry: strand is', e.strand, 'and name is', e.name)"
   ]
  },
  {
   "cell_type": "markdown",
   "metadata": {},
   "source": [
    "### Biological data type III: Epigenetic, histone modification data\n",
    "The Encyclopedia of DNA Elements (ENCODE; http://genome.ucsc.edu/ENCODE/) Consortium is an international collaboration of research groups funded by the National Human Genome Research Institute (NHGRI). The goal of ENCODE is to build a comprehensive parts list of functional elements in the human genome, including elements that act at the protein and RNA levels, and regulatory elements that control cells and circumstances in which a gene is active.\n",
    "\n",
    "ChIP-seq has been used extensively by ENCODE to determine where transcription factors bind, and where chromatin modifications and other major protein-DNA binding events occur. \n",
    "\n",
    "Histone-3 Lysine-4 tri-methylation (H3K4me3) is known as an active promoter mark. Histone-3 Lysine-27 acetylation (H3K27ac) is regarded as an active transcription, and mostly enhancer mark. \n",
    "\n",
    "From the ENCODE page, go to and view the glorious Experiment matrix. Continue to the ChIP-seq experiment matrix for human embryonic stem cells (hESC), and download the ‘broadPeak’ files for the above histone modifications. (H3K4me3.broadPeak and H3K27ac.broadPeak are already in your directory.)\n",
    "\n",
    "Once the data files are in place, you can use `bed.py` to load and use them. For example, you may want to find the H3K4me3 peak that is closest to a specific transcription start site; `bed.py` has a function `getClosest` and a function `getOneOfClosest` which will find the peaks that are closest when we measure the minimum distance from one end of an entry to the end of the other, i.e. the minimum boundary-to-boundary distance."
   ]
  },
  {
   "cell_type": "code",
   "execution_count": 8,
   "metadata": {},
   "outputs": [
    {
     "name": "stdout",
     "output_type": "stream",
     "text": [
      "chr1:713131-713668\n",
      "chr1:713131-713668\n"
     ]
    }
   ],
   "source": [
    "h3k4me3 = bed.BedFile('H3K4me3.broadPeak')\n",
    "print(h3k4me3.getOneOfClosest(e))  # one of the closest BED entry in h3k4me3\n",
    "for h in h3k4me3.getClosest(e):    # could be several closest BED entry in h3k4me3 (with identical distances)\n",
    "    print(h)"
   ]
  },
  {
   "cell_type": "code",
   "execution_count": 9,
   "metadata": {},
   "outputs": [
    {
     "name": "stdout",
     "output_type": "stream",
     "text": [
      "Which is at a boundary-to-boundary distance of 693371 base pairs\n",
      "Which is at a centre-to-centre distance of 693640.0 base pairs\n"
     ]
    }
   ],
   "source": [
    "print('Which is at a boundary-to-boundary distance of ' + str(bed.dist(e,h)) + ' base pairs')\n",
    "print('Which is at a centre-to-centre distance of ' + str(bed.dist(e,h,centre2centre=True)) + ' base pairs')"
   ]
  },
  {
   "cell_type": "markdown",
   "metadata": {},
   "source": [
    "We similarly load the H3K27ac peaks. For fun, we illustrate the use of the function `getOverlap` (actually `getOneOfOverlap`) in `bed.py` to determine how many of the H3K27ac peaks that overlap with H3K4me3 peaks."
   ]
  },
  {
   "cell_type": "code",
   "execution_count": 10,
   "metadata": {},
   "outputs": [
    {
     "name": "stdout",
     "output_type": "stream",
     "text": [
      "Found 25508 H3K27ac peaks of a total 55728 overlapped with H3K4me3 peaks\n"
     ]
    }
   ],
   "source": [
    "h3k27ac = bed.BedFile('H3K27ac.broadPeak')\n",
    "cnt = 0\n",
    "for mark in h3k27ac:\n",
    "    if h3k4me3.getOneOfOverlap(mark) != None:\n",
    "         cnt += 1\n",
    "print('Found', cnt, 'H3K27ac peaks of a total', len(h3k27ac), 'overlapped with H3K4me3 peaks')"
   ]
  },
  {
   "cell_type": "code",
   "execution_count": 11,
   "metadata": {},
   "outputs": [
    {
     "name": "stdout",
     "output_type": "stream",
     "text": [
      "Found 15236 genes overlapped with H3K27ac peaks\n"
     ]
    }
   ],
   "source": [
    "#Question 1A\n",
    "tss1 = bed.BedFile('hum_prom.bed', 'Optional')\n",
    "cnt = 0\n",
    "for gene in h3k27ac:\n",
    "    if tss1.getOneOfOverlap(gene) != None:\n",
    "         cnt += 1\n",
    "print('Found', cnt, 'genes overlapped with H3K27ac peaks')"
   ]
  },
  {
   "cell_type": "code",
   "execution_count": 13,
   "metadata": {},
   "outputs": [
    {
     "name": "stdout",
     "output_type": "stream",
     "text": [
      "3.3940446657844108\n"
     ]
    }
   ],
   "source": [
    "#Question 1B\n",
    "total_d_h3k4me3 = 0\n",
    "for dis in d_h3k4me3:\n",
    "    total_d_h3k4me3 += dis\n",
    "mean_d_h3k4me3 = total_d_h3k4me3 / len(d_h3k4me3)\n",
    "print (mean_d_h3k4me3)"
   ]
  },
  {
   "cell_type": "code",
   "execution_count": 14,
   "metadata": {},
   "outputs": [
    {
     "name": "stdout",
     "output_type": "stream",
     "text": [
      "3.924792935457023\n"
     ]
    }
   ],
   "source": [
    "#Question 1C\n",
    "total_d_h3k27ac = 0\n",
    "for dist in d_h3k27ac:\n",
    "    total_d_h3k27ac += dist\n",
    "mean_d_h3k27ac = total_d_h3k27ac / len(d_h3k27ac)\n",
    "print (mean_d_h3k27ac)"
   ]
  },
  {
   "cell_type": "markdown",
   "metadata": {},
   "source": [
    "With your BED files available in Python, you should now be able to answer the following questions. Some example code is provided below, but you are required to do some changes.\n",
    "\n",
    "<span style=\"color:blue\">**Question 1A: How many H3K27ac marks can be found in the first 1000 base pairs upstream of a transcription start site? Note: To answer this, you are recommended to use the `hum_prom.bed` file, and use `getOneOfOverlap`** </span>\n",
    "\n",
    "<span style=\"color:blue\">**Question 1B: What is the mean centre-to-centre log-transformed distance between H3K4me3 marks and their closest gene, when measured to the gene's TSS? (Produce a mean and a distribution of distances. Use `getOneOfClosest` even though it uses the boundary-to-boundary distance.) Report to two decimal places. **</span>\n",
    "\n",
    "<span style=\"color:blue\">**Question 1C: What is the mean log-transformed distance between H3K27ac marks and their closest gene (TSS)? (Produce a mean and a distribution of distances.) Report to two decimal places.**</span>\n",
    "\n",
    "<span style=\"color:blue\">**Question 1D: Amend the example code below to determine whether the histone mark H3K4me1 is likely to be either an active promoter or enhancer mark. Use the `h3k4me1.broadPeak` file in your prac folder.**</span>\n",
    "\n",
    "**Note**: In the code example below, we log-transform the distances, and avoid log(0) by adding “1” to each distance. We also add a parameter `centre2centre = True` when calling the function `dist` to use centre-to-centre distances instead of the default boundary-to-boundary distances.\n"
   ]
  },
  {
   "cell_type": "code",
   "execution_count": 12,
   "metadata": {},
   "outputs": [
    {
     "name": "stderr",
     "output_type": "stream",
     "text": [
      "/anaconda3/lib/python3.6/site-packages/matplotlib/axes/_axes.py:6462: UserWarning: The 'normed' kwarg is deprecated, and has been replaced by the 'density' kwarg.\n",
      "  warnings.warn(\"The 'normed' kwarg is deprecated, and has been \"\n"
     ]
    },
    {
     "data": {
      "image/png": "[encoded data removed]",
      "text/plain": [
       "<Figure size 576x576 with 1 Axes>"
      ]
     },
     "metadata": {},
     "output_type": "display_data"
    }
   ],
   "source": [
    "d_h3k4me3 = []\n",
    "for mark in h3k4me3:\n",
    "    closest_TSS = tss.getOneOfClosest(mark)\n",
    "    d_h3k4me3.append(math.log10(bed.dist(mark, closest_TSS, centre2centre = True)+1))\n",
    "\n",
    "d_h3k27ac = []\n",
    "for mark in h3k27ac:\n",
    "    closest_TSS = tss.getOneOfClosest(mark)\n",
    "    d_h3k27ac.append(math.log10(bed.dist(mark, closest_TSS, centre2centre = True)+1))\n",
    "\n",
    "h3k4me1 = bed.BedFile('H3K4me1.broadPeak')\n",
    "d_h3k4me1 = []\n",
    "for mark in h3k4me1:\n",
    "    closest_TSS = tss.getOneOfClosest(mark)\n",
    "    d_h3k4me1.append(math.log10(bed.dist(mark, closest_TSS, centre2centre = True)+1))\n",
    "\n",
    "plt.figure(1, figsize=(8,8))\n",
    "ax = plt.axes([0.1, 0.1, 0.8, 0.8])\n",
    "n, bs, ps = plt.hist(d_h3k27ac, 100, normed=1, color='r', histtype = 'step') #enhancer\n",
    "n, bs, ps = plt.hist(d_h3k4me3, 100, normed=1, color='g', histtype = 'step') #promoter\n",
    "n, bs, ps = plt.hist(d_h3k4me1, 100, normed=1, color='b', histtype = 'step') #enhancer\n",
    "plt.show()"
   ]
  },
  {
   "cell_type": "markdown",
   "metadata": {},
   "source": [
    "<a id=\"Exercise2\"></a>\n",
    "## Exercise 2: Transcription factor motif enrichment\n",
    "\n",
    "You are now going to analyze some sequence data taken from ChIP-seq data and try to determine what motif describes the direct DNA binding by the transcription factor (TF) that was \"pulled-down\" in the immunoprecipitation experiment. The sequence data you are provided with is the genomic sequence around each of the \"peak\" regions declared by the \"peak-calling\" algorithm. The ultimate mission is to perform a type of \"motif enrichment analysis\" (Problem 3)."
   ]
  },
  {
   "cell_type": "markdown",
   "metadata": {},
   "source": [
    "CEBPB is a transcription factor. Construct a FASTA file, containing all the DNA sequences with CEBPB binding sites, so that someone, maybe you, can do transcription factor binding motif discovery with it. \n",
    "\n",
    "Download ChIP-seq data from ENCODE for it in human embryonic stem cells. (Pick the narrowPeak file, also found in your directory as `CEBPB.narrowPeak`.)"
   ]
  },
  {
   "cell_type": "code",
   "execution_count": 15,
   "metadata": {},
   "outputs": [
    {
     "name": "stdout",
     "output_type": "stream",
     "text": [
      "Failed to map chr12 95478 95742\n",
      "Failed to map chr18 9992 10256\n"
     ]
    }
   ],
   "source": [
    "cebpb = bed.BedFile('CEBPB.narrowPeak')\n",
    "seqs = []\n",
    "for b in cebpb:\n",
    "    try:\n",
    "        seqstr = hg19[b.chrom][b.chromStart:b.chromEnd]\n",
    "        # note that seqstr may contain lower case DNA characters; convert below\n",
    "        newseq = sequence.Sequence(seqstr.upper(), sym.DNA_Alphabet, str(b))\n",
    "        # will fail if character is not one of A, C, G or T, e.g. if N\n",
    "        if len(newseq) >= 200: # only add sequences at least 200bp\n",
    "            seqs.append(newseq)\n",
    "    except:\n",
    "        print ('Failed to map', b.chrom, b.chromStart, b.chromEnd)\n",
    "sequence.writeFastaFile('cebpb.fa', seqs)"
   ]
  },
  {
   "cell_type": "markdown",
   "metadata": {},
   "source": [
    "We are interested in whether CEBPB is associated with promoters or enchancers. So you will need to measure distances again, and substantiate your conclusions with plots of distances between CEBPB binding sites and promoter and enhancer associated histone marks.\n",
    "\n",
    "<span style=\"color:blue\">**Question 2A: What is the mean distance between CEBPB binding sites and their closest H3K4me1 mark? Report to two decimal places.** \n",
    "\n",
    "<span style=\"color:blue\">**Question 2B: Is CEBPB more likely to be associated with promoters or enhancers? Explain your reasoning**"
   ]
  },
  {
   "cell_type": "code",
   "execution_count": 16,
   "metadata": {},
   "outputs": [
    {
     "name": "stdout",
     "output_type": "stream",
     "text": [
      "3.5629020083852376\n"
     ]
    }
   ],
   "source": [
    "#Question 2A\n",
    "d_h3k4me1 = []\n",
    "total_dist_h3k4me1 = 0\n",
    "for mark in cebpb:\n",
    "    closest_TSS = h3k4me1.getOneOfClosest(mark)\n",
    "    d_h3k4me1.append(math.log10(bed.dist(mark, closest_TSS, centre2centre=True)+1))\n",
    "for dist in d_h3k4me1:\n",
    "    total_dist_h3k4me1 += dist\n",
    "print(total_dist_h3k4me1/len(d_h3k4me1))"
   ]
  },
  {
   "cell_type": "markdown",
   "metadata": {},
   "source": [
    "Above we extracted from the reference genome a set of sequences, which CEBPB seems to bind to. While this sounds like a motif discovery problem, we may already know what the CEBPB motif looks like. We will therefore look at this as a motif *search* problem, and establish the statistical enrichment of CEBPB's motif. Specifically, we will investigate at what position the motif occurs. Step one, is to make sure all sequences are the same length around the centre of each peak. \n",
    "\n",
    "Write the code below to set the variable `seqs200` to be the 200-bp versions of those sequences extracted above (currently stored in the variable `seqs`).\n",
    "They must be centred at the centre of the original peaks which can vary widely in size. (The expectation is that the TF binds in the middle, but that there will be variations due to the imprecision introduced by the experiment.)"
   ]
  },
  {
   "cell_type": "code",
   "execution_count": 17,
   "metadata": {},
   "outputs": [],
   "source": [
    "seqs200 = []\n",
    "for seq in seqs:\n",
    "    if len(seq)//2 != len(seq)/2:\n",
    "        new_seq = seq.sequence[0:-1]\n",
    "    else:\n",
    "        new_seq = seq.sequence\n",
    "    while len(new_seq) > 200:\n",
    "        new_seq = new_seq[1:-1]\n",
    "    \n",
    "    new_seq = sequence.Sequence(new_seq,sym.DNA_Alphabet, seq.name)\n",
    "    seqs200.append(new_seq)\n",
    "    \n",
    "for seq in seqs200:\n",
    "    if len(seq) != 200:\n",
    "        print(seq.name)"
   ]
  },
  {
   "cell_type": "markdown",
   "metadata": {},
   "source": [
    "<span style=\"color:blue\">** Question 2C: To check that your code works - If we limit the length to be 20-bp, what does the following sequence become - chr1:3816802-3817066 ? **"
   ]
  },
  {
   "cell_type": "markdown",
   "metadata": {},
   "source": [
    "JASPAR contains a large number of transcription factor binding motifs. You can download the whole database directly from their web site at http://jaspar.genereg.net. You can find the database in the notebook directory as `JASPAR_matrices.txt`. You can use `prob.py` to read in each motif as a list of probability distributions (over the DNA alphabet), like so:"
   ]
  },
  {
   "cell_type": "code",
   "execution_count": 18,
   "metadata": {},
   "outputs": [
    {
     "name": "stdout",
     "output_type": "stream",
     "text": [
      "Just loaded 661 sequence motifs as a dictionary\n"
     ]
    }
   ],
   "source": [
    "d = prob.readMultiCounts('JASPAR_matrices.txt')\n",
    "print ('Just loaded', len(d), 'sequence motifs as a dictionary')"
   ]
  },
  {
   "cell_type": "markdown",
   "metadata": {},
   "source": [
    "CEBPB is called `MA0466.1` in JASPAR. It is believed to have a couple of co-factors, including RUNX1 (called `MA0002.1` in JASPAR) and IRF1 (called `MA0050.2`)."
   ]
  },
  {
   "cell_type": "code",
   "execution_count": 19,
   "metadata": {},
   "outputs": [
    {
     "name": "stdout",
     "output_type": "stream",
     "text": [
      "CEBPB is called MA0466.1 in JASPAR\n"
     ]
    },
    {
     "data": {
      "text/plain": [
       "[<prob.Distrib at 0x135dd5470>,\n",
       " <prob.Distrib at 0x135dd5668>,\n",
       " <prob.Distrib at 0x135dd5550>,\n",
       " <prob.Distrib at 0x135dd55f8>,\n",
       " <prob.Distrib at 0x135dd5630>,\n",
       " <prob.Distrib at 0x135dd54a8>,\n",
       " <prob.Distrib at 0x135dd54e0>,\n",
       " <prob.Distrib at 0x135dd55c0>,\n",
       " <prob.Distrib at 0x135dd5518>,\n",
       " <prob.Distrib at 0x135dd56a0>,\n",
       " <prob.Distrib at 0x135dd56d8>]"
      ]
     },
     "execution_count": 19,
     "metadata": {},
     "output_type": "execute_result"
    }
   ],
   "source": [
    "print ('CEBPB is called MA0466.1 in JASPAR')\n",
    "d['MA0466.1']"
   ]
  },
  {
   "cell_type": "code",
   "execution_count": 20,
   "metadata": {},
   "outputs": [
    {
     "name": "stdout",
     "output_type": "stream",
     "text": [
      "< A=0.13 C=0.10 G=0.34 T=0.43  >\n",
      "< A=0.76 C=0.06 G=0.19 T=0.00  >\n",
      "< A=0.00 C=0.00 G=0.00 T=1.00  >\n",
      "< A=0.00 C=0.00 G=0.00 T=1.00  >\n",
      "< A=0.05 C=0.00 G=0.76 T=0.20  >\n",
      "< A=0.00 C=1.00 G=0.00 T=0.00  >\n",
      "< A=0.75 C=0.06 G=0.10 T=0.09  >\n",
      "< A=0.09 C=0.52 G=0.00 T=0.39  >\n",
      "< A=0.60 C=0.40 G=0.00 T=0.00  >\n",
      "< A=1.00 C=0.00 G=0.00 T=0.00  >\n",
      "< A=0.00 C=0.36 G=0.02 T=0.62  >\n"
     ]
    }
   ],
   "source": [
    "# This will print all the column-specific distributions\n",
    "for col in d['MA0466.1']:\n",
    "    print (col)"
   ]
  },
  {
   "cell_type": "code",
   "execution_count": 21,
   "metadata": {},
   "outputs": [
    {
     "name": "stdout",
     "output_type": "stream",
     "text": [
      "A\t[ -0.65  +1.11 -25.33 -25.33  -1.70 -25.33  +1.10  -1.06  +0.88  +1.39 -25.33]\n",
      "C\t[ -0.91  -1.44 -25.33 -25.33 -25.33  +1.39  -1.51  +0.74  +0.46 -25.33  +0.37]\n",
      "G\t[ +0.30  -0.30 -25.33 -25.33  +1.11 -25.33  -0.91 -25.33 -25.33 -25.33  -2.50]\n",
      "T\t[ +0.54 -25.33  +1.39  +1.39  -0.25 -25.33  -0.99  +0.45 -25.33 -25.33  +0.90]\n",
      "\n",
      "A\t[ +0.90 -25.33 -25.33  +0.45  -0.99 -25.33  -0.25  +1.39  +1.39 -25.33  +0.54]\n",
      "C\t[ -2.50 -25.33 -25.33 -25.33  -0.91 -25.33  +1.11 -25.33 -25.33  -0.30  +0.30]\n",
      "G\t[ +0.37 -25.33  +0.46  +0.74  -1.51  +1.39 -25.33 -25.33 -25.33  -1.44  -0.91]\n",
      "T\t[-25.33  +1.39  +0.88  -1.06  +1.10 -25.33  -1.70 -25.33 -25.33  +1.11  -0.65]\n"
     ]
    }
   ],
   "source": [
    "# You should already know how to make the list of distributions into a PWM\n",
    "pwm1 = sequence.PWM(d['MA0466.1'])\n",
    "pwm1.display(format='JASPAR')\n",
    "print()\n",
    "# The TF could bind to the reverse strand too\n",
    "pwm2 = pwm1.getRC()\n",
    "pwm2.display(format='JASPAR')"
   ]
  },
  {
   "cell_type": "markdown",
   "metadata": {},
   "source": [
    "ChIP-seq identifies fragments of DNA that the target protein binds to. While those fragments can be of different sizes, on average we expect any trace of binding to be enriched in the centre. To verify that this is the case, we first check that all sequences are the same length."
   ]
  },
  {
   "cell_type": "code",
   "execution_count": 22,
   "metadata": {},
   "outputs": [],
   "source": [
    "seq_len = len(seqs200[0])\n",
    "for seq in seqs200:\n",
    "    if len(seq) != seq_len:\n",
    "        print ('Error: all sequences must be of the same length, and', seq.name, 'is', len(seq), 'and not', seq_len)\n",
    "        break"
   ]
  },
  {
   "cell_type": "markdown",
   "metadata": {},
   "source": [
    "If this turns out to be true (which it should if you managed to solve the problem above), we can determine the average position-specific score over all DNA sequences. The following code will plot those average scores. (It takes a couple of minutes to execute.)"
   ]
  },
  {
   "cell_type": "code",
   "execution_count": 23,
   "metadata": {},
   "outputs": [
    {
     "data": {
      "image/png": "[encoded data removed]",
      "text/plain": [
       "<Figure size 432x288 with 1 Axes>"
      ]
     },
     "metadata": {},
     "output_type": "display_data"
    }
   ],
   "source": [
    "\"\"\" Produce a plot for the \"average scan\" of the specified motif. \n",
    "    The plot has as its x-axis position of sequence, and \n",
    "    the y-axis the average PWM score over all sequences. \n",
    "    Make sure the following variables are set correctly before running:\n",
    "        seqs200 - all sequences to be scanned, must be same lengths\n",
    "        pwm1 - PWM\n",
    "        pwm2 - PWM reverse strand\n",
    "\"\"\"\n",
    "threshold = 0 # the minimum score for a match\n",
    "seq_len = len(seqs200[0])\n",
    "# initialize things to zero\n",
    "avg_motif_score1 = np.zeros(seq_len)\n",
    "# compute average score at each position (on both strands) in sequences\n",
    "i_seq = 0\n",
    "motif_width = pwm1.length\n",
    "for seq in seqs200:\n",
    "    i_seq += 1\n",
    "    # positive strand\n",
    "    hits = pwm1.search(seq, threshold)\n",
    "    pos_scores = seq_len * [0]\n",
    "    for hit in hits:\n",
    "        # mark hit at *center* of site (hence motif_width//2)\n",
    "        pos_scores[hit[0]+(motif_width//2)] = hit[2]\n",
    "    # negative strand\n",
    "    hits = pwm2.search(seq, threshold)\n",
    "    neg_scores = seq_len * [0]\n",
    "    for hit in hits:\n",
    "        neg_scores[hit[0]+(motif_width//2)] = hit[2]\n",
    "    # for each position use the maximum score of the two strands\n",
    "    for i in range(seq_len):\n",
    "        score = max(pos_scores[i], neg_scores[i])\n",
    "        if (score > threshold):\n",
    "            avg_motif_score1[i] += score\n",
    "# compute average score\n",
    "for i in range(seq_len):\n",
    "    avg_motif_score1[i] /= len(seqs200)\n",
    "# plot the average score curve\n",
    "x = range(-(seq_len//2), (seq_len//2))    # call center of sequence X=0\n",
    "plt.plot(x, avg_motif_score1)\n",
    "plt.axhline(color='black', linestyle='dotted')\n",
    "plt.xlabel('Position')\n",
    "plt.ylabel('Average motif score')\n",
    "plt.show()"
   ]
  },
  {
   "cell_type": "code",
   "execution_count": 24,
   "metadata": {},
   "outputs": [
    {
     "data": {
      "image/png": "[encoded data removed]",
      "text/plain": [
       "<Figure size 432x288 with 1 Axes>"
      ]
     },
     "metadata": {},
     "output_type": "display_data"
    },
    {
     "data": {
      "image/png": "[encoded data removed]",
      "text/plain": [
       "<Figure size 432x288 with 1 Axes>"
      ]
     },
     "metadata": {},
     "output_type": "display_data"
    },
    {
     "data": {
      "image/png": "[encoded data removed]",
      "text/plain": [
       "<Figure size 432x288 with 1 Axes>"
      ]
     },
     "metadata": {},
     "output_type": "display_data"
    }
   ],
   "source": [
    "pwm_dic = {}\n",
    "pwm_dic[\"cebpb\"] = d['MA0466.1']\n",
    "pwm_dic[\"runx1\"] = d['MA0002.1']\n",
    "pwm_dic[\"irf1\"] = d['MA0050.2']\n",
    "\n",
    "threshold = 0 # the minimum score for a match\n",
    "seq_len = len(seqs200[0])\n",
    "\n",
    "for key in pwm_dic:\n",
    "    pwm1 = sequence.PWM(pwm_dic[key])\n",
    "    pwm2 = pwm1.getRC()\n",
    "    # initialize things to zero\n",
    "    avg_motif_score1 = np.zeros(seq_len)\n",
    "    # compute average score at each position (on both strands) in sequences\n",
    "    i_seq = 0\n",
    "    motif_width = pwm1.length\n",
    "    for seq in seqs200:\n",
    "        i_seq += 1\n",
    "        # positive strand\n",
    "        hits = pwm1.search(seq, threshold)\n",
    "        pos_scores = seq_len * [0]\n",
    "        for hit in hits:\n",
    "            # mark hit at *center* of site (hence motif_width//2)\n",
    "            pos_scores[hit[0]+(motif_width//2)] = hit[2]\n",
    "        # negative strand\n",
    "        hits = pwm2.search(seq, threshold)\n",
    "        neg_scores = seq_len * [0]\n",
    "        for hit in hits:\n",
    "            neg_scores[hit[0]+(motif_width//2)] = hit[2]\n",
    "        # for each position use the maximum score of the two strands\n",
    "        for i in range(seq_len):\n",
    "            score = max(pos_scores[i], neg_scores[i])\n",
    "            if (score > threshold):\n",
    "                avg_motif_score1[i] += score\n",
    "    # compute average score\n",
    "    for i in range(seq_len):\n",
    "        avg_motif_score1[i] /= len(seqs200)\n",
    "    \n",
    "    # plot the average score curve\n",
    "    x = range(-(seq_len//2), (seq_len//2))    # call center of sequence X=0\n",
    "    plt.plot(x, avg_motif_score1)\n",
    "    plt.axhline(color='black', linestyle='dotted')\n",
    "    plt.xlabel('Position')\n",
    "    plt.ylabel('Average motif score of '+str(key))\n",
    "    plt.show()"
   ]
  },
  {
   "cell_type": "markdown",
   "metadata": {},
   "source": [
    "Use a similar approach to the code in the above cell to establish if there is a co-factor with CEBPB in human embryonic stem cells. You can search the literature (PubMed http://www.ncbi.nlm.nih.gov/pubmed/) for candidates, but to limit your work, check with the two identified above (RUNX1 and IRF1). Explain what you see in both technical and biological terms."
   ]
  },
  {
   "cell_type": "markdown",
   "metadata": {
    "collapsed": true
   },
   "source": [
    "<span style=\"color:blue\">**Question 2D: Which of the following statements are true? Check all that apply.**\n",
    "<br> The scale on the y-axis always remains the same\n",
    "<br> The code takes the average of the results from the forward and reverse strand\n",
    "<br> The three binding motifs (CEBPB, RUNX1, and IRF1) all show different binding patterns"
   ]
  },
  {
   "cell_type": "markdown",
   "metadata": {},
   "source": [
    "<span style=\"color:blue\">**Question 2E: Explain the approach to establish if there is a co-factor with CEBPB in human embryonic stem cells and report what you determined.**</span> "
   ]
  },
  {
   "cell_type": "code",
   "execution_count": null,
   "metadata": {
    "collapsed": true
   },
   "outputs": [],
   "source": []
  }
 ],
 "metadata": {
  "kernelspec": {
   "display_name": "Python 3",
   "language": "python",
   "name": "python3"
  },
  "language_info": {
   "codemirror_mode": {
    "name": "ipython",
    "version": 3
   },
   "file_extension": ".py",
   "mimetype": "text/x-python",
   "name": "python",
   "nbconvert_exporter": "python",
   "pygments_lexer": "ipython3",
   "version": "3.7.6"
  }
 },
 "nbformat": 4,
 "nbformat_minor": 1
}
