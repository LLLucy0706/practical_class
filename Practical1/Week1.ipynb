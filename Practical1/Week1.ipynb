{
 "cells": [
  {
   "cell_type": "markdown",
   "metadata": {},
   "source": [
    "# Practical 1\n",
    "\n",
    "## Python programming\n",
    "\n",
    "### Objectives \n",
    "\n",
    "This practical aims to familiarise you with the key elements of the Python programming language. Understanding and writing code is essential to effective problem solving in bioinformatics; you will need to have a basic appreciation to use materials in this course, both practicals and lectures, as would be expected from having done the pre-requisites of the course.\n",
    "\n",
    "In this practical we:\n",
    "* review Python programming basics\n",
    "* look at some file processing using Python\n",
    "* provide some examples of [what Python Notebooks are](#Appendix:-An-introduction-to-notebooks)\n",
    "\n"
   ]
  },
  {
   "cell_type": "markdown",
   "metadata": {},
   "source": [
    "---\n",
    "\n",
    "## Variables and simple data types ##\n",
    "\n",
    "A variable is the equivalent of a box in which you could put stuff in (i.e. you assign a value to a variable). The stuff can have different types, such as integer, float, string or other [type objects].\n",
    "\n",
    "You assign a variable to a value using the `=` operator.\n",
    "\n",
    "A variable can almost have any name (except reserved Python keywords and strings starting with a number).\n",
    "\n",
    "[type objects]: https://docs.python.org/3/library/types.html"
   ]
  },
  {
   "cell_type": "code",
   "execution_count": null,
   "metadata": {
    "collapsed": true
   },
   "outputs": [],
   "source": [
    "# will not work. Starts with a number\n",
    "7_up = 'this'\n",
    "\n",
    "# or this. if is a reserved word\n",
    "if = 'this'"
   ]
  },
  {
   "cell_type": "markdown",
   "metadata": {},
   "source": [
    "### Integers ###"
   ]
  },
  {
   "cell_type": "code",
   "execution_count": null,
   "metadata": {
    "collapsed": true
   },
   "outputs": [],
   "source": [
    "# Integers are numbers without a decimal point\n",
    "myvar = 12\n",
    "print (type(myvar))\n",
    "print (myvar)"
   ]
  },
  {
   "cell_type": "markdown",
   "metadata": {},
   "source": [
    "### Floats"
   ]
  },
  {
   "cell_type": "code",
   "execution_count": null,
   "metadata": {
    "collapsed": true
   },
   "outputs": [],
   "source": [
    "# Floats are numbers with decimal points\n",
    "myvar = 12.2\n",
    "print (type(myvar))\n",
    "print (myvar)"
   ]
  },
  {
   "cell_type": "markdown",
   "metadata": {},
   "source": [
    "### Strings ###"
   ]
  },
  {
   "cell_type": "code",
   "execution_count": null,
   "metadata": {
    "collapsed": true
   },
   "outputs": [],
   "source": [
    "# Strings are text-snippets, i.e. arbitrarily long sequences of characters\n",
    "myvar = \"12\"\n",
    "print (type(myvar))\n",
    "print (myvar)"
   ]
  },
  {
   "cell_type": "markdown",
   "metadata": {},
   "source": [
    "### Take-aways ###\n",
    "\n",
    " * Strings are defined explicitly by surrounding the text between double or single quotes. \n",
    "    * Why are there these two options?\n",
    " * \"12\" is not equal to 12. \"12\" is the concatenation of the characters \"1\" and \"2\", while 12 is an integer type."
   ]
  },
  {
   "cell_type": "code",
   "execution_count": null,
   "metadata": {
    "collapsed": true
   },
   "outputs": [],
   "source": [
    "# Asking is \"12\" equal to 12 (string vs int)\n",
    "\"12\" == 12"
   ]
  },
  {
   "cell_type": "markdown",
   "metadata": {},
   "source": [
    "* You can convert types from one to another. Examples:"
   ]
  },
  {
   "cell_type": "code",
   "execution_count": null,
   "metadata": {
    "collapsed": true
   },
   "outputs": [],
   "source": [
    "print (type(int(\"12\")), int(\"12\"))\n",
    "print (type(float(\"12\")), float(\"12\"))\n",
    "print (type(float(11)), float(11))"
   ]
  },
  {
   "cell_type": "markdown",
   "metadata": {},
   "source": [
    "---\n",
    "\n",
    "## Working with variables and simple data types ##"
   ]
  },
  {
   "cell_type": "markdown",
   "metadata": {},
   "source": [
    "**Incrementing variables**.\n",
    "\n",
    "Notice how you can add or multiply the content of a variable and store the result in the same variable:"
   ]
  },
  {
   "cell_type": "code",
   "execution_count": null,
   "metadata": {
    "collapsed": true
   },
   "outputs": [],
   "source": [
    "# Use '#' for comments.\n",
    "myvar = 12        # assign a value to a variable\n",
    "myvar = myvar + 1 # increment the value assigned, by another value (1)\n",
    "print (myvar)     # print it out\n",
    "\n",
    "myvar += 1        # Handy shorthand notation for incrementing a value assigned\n",
    "print (myvar)"
   ]
  },
  {
   "cell_type": "code",
   "execution_count": null,
   "metadata": {
    "collapsed": true
   },
   "outputs": [],
   "source": [
    "myvar = 14\n",
    "myvar = myvar * 2 # Double the value of myvar\n",
    "print (myvar)\n",
    "\n",
    "myvar *= 2        # This statement is equivalent to the \"doubling\" above \n",
    "print (myvar)"
   ]
  },
  {
   "cell_type": "markdown",
   "metadata": {},
   "source": [
    "**String methods and getting help.**\n",
    "\n",
    "Strings have many useful predefined functions:"
   ]
  },
  {
   "cell_type": "code",
   "execution_count": null,
   "metadata": {
    "collapsed": true
   },
   "outputs": [],
   "source": [
    "# Define a variable containing a short (DNA) string\n",
    "dna = \"ATCGTTTTCGATC\""
   ]
  },
  {
   "cell_type": "code",
   "execution_count": null,
   "metadata": {
    "collapsed": true
   },
   "outputs": [],
   "source": [
    "# Count the occurrences of character A in the (DNA) variable\n",
    "print (dna.count(\"A\"))"
   ]
  },
  {
   "cell_type": "code",
   "execution_count": null,
   "metadata": {
    "collapsed": true
   },
   "outputs": [],
   "source": [
    "# How long is the (DNA) string\n",
    "print (len(dna))"
   ]
  },
  {
   "cell_type": "code",
   "execution_count": null,
   "metadata": {
    "collapsed": true
   },
   "outputs": [],
   "source": [
    "print (dna.replace(\"T\",\"U\"))"
   ]
  },
  {
   "cell_type": "code",
   "execution_count": null,
   "metadata": {
    "collapsed": true
   },
   "outputs": [],
   "source": [
    "# The function \"replace\" does not change the string in-place\n",
    "print (dna)"
   ]
  },
  {
   "cell_type": "code",
   "execution_count": null,
   "metadata": {
    "collapsed": true
   },
   "outputs": [],
   "source": [
    "rna = dna.replace(\"T\",\"U\")\n",
    "print (rna)\n",
    "# or in-place\n",
    "dna = dna.replace(\"T\",\"U\")\n",
    "print (dna)"
   ]
  },
  {
   "cell_type": "code",
   "execution_count": null,
   "metadata": {
    "collapsed": true
   },
   "outputs": [],
   "source": [
    "# Checking membership with 'in'\n",
    "print (\"U\" in rna)\n",
    "print (\"T\" in rna)"
   ]
  },
  {
   "cell_type": "code",
   "execution_count": null,
   "metadata": {
    "collapsed": true
   },
   "outputs": [],
   "source": [
    "# Accessing elements in string by position index. Notice counting begins with 0.\n",
    "print (dna)\n",
    "print (dna[0])\n",
    "print (\" \"+dna[1])\n",
    "print (\"   \"+dna[3])\n",
    "# Get last element\n",
    "print (\"            \"+dna[-1])"
   ]
  },
  {
   "cell_type": "code",
   "execution_count": null,
   "metadata": {
    "collapsed": true
   },
   "outputs": [],
   "source": [
    "# Adding some 'bases'\n",
    "dna += \"AAAAAA\"\n",
    "print (dna)"
   ]
  },
  {
   "cell_type": "code",
   "execution_count": null,
   "metadata": {
    "collapsed": true
   },
   "outputs": [],
   "source": [
    "# Listing available 'string methods'\n",
    "print (dir(str))"
   ]
  },
  {
   "cell_type": "code",
   "execution_count": null,
   "metadata": {
    "collapsed": true
   },
   "outputs": [],
   "source": [
    "print (help(str))"
   ]
  },
  {
   "cell_type": "markdown",
   "metadata": {},
   "source": [
    "---\n",
    "\n",
    "## More advanced data types: lists and dictionaries ##\n",
    "\n",
    "A variable can also contain other \"boxes\", with the two most useful [types] of box containers\n",
    "being lists and dictionaries.\n",
    "\n",
    "[types]: https://docs.python.org/2/library/types.html\n",
    "\n",
    "\n",
    "**Lists:** ordinal index"
   ]
  },
  {
   "cell_type": "code",
   "execution_count": null,
   "metadata": {
    "collapsed": true
   },
   "outputs": [],
   "source": [
    "# Delimiters: square brackets\n",
    "a_list = [1,2,12.2,\"P23456\"]"
   ]
  },
  {
   "cell_type": "markdown",
   "metadata": {},
   "source": [
    "List representation: \n",
    "\n",
    "Index | Value\n",
    "--- | ---\n",
    "0 | 1\n",
    "1 | 2\n",
    "2 | 12.2\n",
    "3 | \"P23456\"\n"
   ]
  },
  {
   "cell_type": "code",
   "execution_count": null,
   "metadata": {
    "collapsed": true
   },
   "outputs": [],
   "source": [
    "print (type(a_list))"
   ]
  },
  {
   "cell_type": "code",
   "execution_count": null,
   "metadata": {
    "collapsed": true
   },
   "outputs": [],
   "source": [
    "# 0 based numbering\n",
    "print (a_list[3])"
   ]
  },
  {
   "cell_type": "code",
   "execution_count": null,
   "metadata": {
    "collapsed": true
   },
   "outputs": [],
   "source": [
    "# Updating elements\n",
    "print (a_list)\n",
    "a_list[3] = 15\n",
    "print (a_list)"
   ]
  },
  {
   "cell_type": "code",
   "execution_count": null,
   "metadata": {
    "collapsed": true
   },
   "outputs": [],
   "source": [
    "# Adding elements at the end\n",
    "a_list.append(20.0)\n",
    "print (a_list)"
   ]
  },
  {
   "cell_type": "code",
   "execution_count": null,
   "metadata": {
    "collapsed": true
   },
   "outputs": [],
   "source": [
    "# 'slicing a list'\n",
    "print (a_list[1:3])"
   ]
  },
  {
   "cell_type": "code",
   "execution_count": null,
   "metadata": {
    "collapsed": true
   },
   "outputs": [],
   "source": [
    "# List length. Like for strings\n",
    "print (len(a_list))"
   ]
  },
  {
   "cell_type": "code",
   "execution_count": null,
   "metadata": {
    "collapsed": true
   },
   "outputs": [],
   "source": [
    "# Membership testing\n",
    "print (5 in a_list)\n",
    "print (20 in a_list)"
   ]
  },
  {
   "cell_type": "markdown",
   "metadata": {},
   "source": [
    "**Dictionaries**: alphanumerical keys"
   ]
  },
  {
   "cell_type": "code",
   "execution_count": null,
   "metadata": {
    "collapsed": true
   },
   "outputs": [],
   "source": [
    "# Delimiters: curly brackets\n",
    "my_dict={\"name\" :\"hemoglobin\",\n",
    "         100: \"PRO2979\", \n",
    "         \"length\": 147}"
   ]
  },
  {
   "cell_type": "markdown",
   "metadata": {},
   "source": [
    "Dictionary representation:\n",
    "\n",
    "Key | Value\n",
    "--- | ---\n",
    "\"name\" | \"hemoglobin\"\n",
    "100 | \"PRO2979\"\n",
    "\"length\" | 147\n"
   ]
  },
  {
   "cell_type": "code",
   "execution_count": null,
   "metadata": {
    "collapsed": true
   },
   "outputs": [],
   "source": [
    "print (type(my_dict))"
   ]
  },
  {
   "cell_type": "code",
   "execution_count": null,
   "metadata": {
    "collapsed": true
   },
   "outputs": [],
   "source": [
    "print (my_dict[\"name\"])"
   ]
  },
  {
   "cell_type": "code",
   "execution_count": null,
   "metadata": {
    "collapsed": true
   },
   "outputs": [],
   "source": [
    "print (my_dict[100])"
   ]
  },
  {
   "cell_type": "code",
   "execution_count": null,
   "metadata": {
    "collapsed": true
   },
   "outputs": [],
   "source": [
    "my_dict[\"length\"] = 120\n",
    "print (my_dict[\"length\"])"
   ]
  },
  {
   "cell_type": "code",
   "execution_count": null,
   "metadata": {
    "collapsed": true
   },
   "outputs": [],
   "source": [
    "print (my_dict)\n",
    "my_dict[\"ID\"] = \"P69891\"\n",
    "print (my_dict[\"ID\"])\n",
    "print (my_dict)"
   ]
  },
  {
   "cell_type": "code",
   "execution_count": null,
   "metadata": {
    "collapsed": true
   },
   "outputs": [],
   "source": [
    "print (my_dict.keys())"
   ]
  },
  {
   "cell_type": "markdown",
   "metadata": {},
   "source": [
    "---\n",
    "\n",
    "## Control structures\n",
    "\n",
    "The constructs `if` and `for` are the most common control structures used to execute instructions according to certain conditions (`if`) or repetitions (`for`). The instructions under control are identified by their common level of indentation, which is indicated by tabs or 4 blank spaces.\n",
    "\n",
    "\n",
    "### Conditional statements ###\n",
    "\n",
    "**if, elif, and else**\n",
    "\n",
    "The conditional operators are `==`, `>`, `<`, `>=`, `<=`, `is` and `in` (note that a single `=` is not an operator). Any function returning boolean values (`True` or `False`) could also be used as a condition. Several conditions can be combined using `and` and `or` keywords. For example:\n",
    "\n",
    "```python\n",
    "   if (age < 30) and (weight > 150):\n",
    "       pass # do nothing\n",
    "```"
   ]
  },
  {
   "cell_type": "markdown",
   "metadata": {},
   "source": [
    "**if, elif & else block**\n",
    "\n",
    "```python\n",
    "if condition1:\n",
    "    do something if condition1 is True\n",
    "    do more things if condition1 is True\n",
    "    do even more things if condition1 is True\n",
    "elif condition2:\n",
    "    do something if condition2 is True and condition1 is False\n",
    "else:\n",
    "    do something if condition1 and condition2 are False\n",
    "    do more things if condition1 is False\n",
    "    do something whatever True or False\n",
    "```\n",
    "\n",
    "**Example:**"
   ]
  },
  {
   "cell_type": "code",
   "execution_count": null,
   "metadata": {
    "collapsed": true
   },
   "outputs": [],
   "source": [
    "mycodon = \"ATG\"\n",
    "\n",
    "if \"T\" in mycodon:\n",
    "    print (\"The codon is DNA, changing to RNA\")\n",
    "    mycodon = mycodon.replace(\"T\",\"U\")\n",
    "else:\n",
    "    print (\"The codon is possibly RNA\")\n",
    "\n",
    "if mycodon == \"AUG\":\n",
    "    print (\"This is the start codon!\")\n",
    "\n",
    "print (\"The analysed codon is\", mycodon)"
   ]
  },
  {
   "cell_type": "markdown",
   "metadata": {},
   "source": [
    "---\n",
    "\n",
    "### Control flow ###\n",
    "\n",
    "**for, in**: executing repeatedly on elements\n",
    "\n",
    "The for loop:\n",
    "\n",
    "```python\n",
    "for index_variable in list:\n",
    "    do something using index_variable\n",
    "    do something different inside the loop\n",
    "do something outside of the loop\n",
    "```\n",
    "\n",
    "**Example:**"
   ]
  },
  {
   "cell_type": "code",
   "execution_count": null,
   "metadata": {
    "collapsed": true
   },
   "outputs": [],
   "source": [
    "hydrophobics = \"FLIMVPAWG\"\n",
    "sequence = [\"M\",\"H\",\"K\",\"L\"]\n",
    "\n",
    "for aa in sequence:\n",
    "    print (\"The amino acid is\",aa)\n",
    "    if aa in hydrophobics:\n",
    "        print (\" It is a hydrophobic residue\")\n",
    "print (\"End of the program\")"
   ]
  },
  {
   "cell_type": "markdown",
   "metadata": {},
   "source": [
    "---\n",
    "\n",
    "### Advanced control structure topics\n",
    "\n",
    "**The break statement allows termination of a for loop prematurely:**\n",
    "\n",
    "```python\n",
    "   for element in list\n",
    "       if element == 'this is what we want':\n",
    "           print ('found it')\n",
    "           break\n",
    "```\n",
    "\n",
    "**Looping over the keys of a dictionary using:**\n",
    "\n",
    "```python\n",
    "   for key in dict:\n",
    "```\n",
    "\n",
    "**Looping over the dictionary keys and values simultaneously using:**\n",
    "\n",
    "```python\n",
    "   for key, value in dict.items():\n",
    "```\n",
    "\n",
    "**Executing repeatedly over several lists simultaneously:**\n",
    "\n",
    "Imagine you have several lists of same length, which is the equivalent of a spreadsheet where the columns are stored in different lists. How can you simultaneously list all the elements of each list?\n",
    "\n",
    "Index | List 1 | List 2 | List 3 | ...\n",
    "--- | --- | --- | --- | ---\n",
    "0 | List1[0] | List2[0] | List3[0] | ...\n",
    "1 | List1[1] | List2[1] | List3[1] | ...\n",
    "2 | List1[2] | List2[2] | List3[2] | ...\n",
    "... |  ... | ... | ... | ...\n",
    "\n",
    "\n",
    "Here are three simple strategies that you could use to loop simultaneously over values in lists of same length. \n",
    "\n",
    "Lets take the example of two lists containing some UniProt protein codes and their sequence length, respectively:\n",
    "\n",
    "\n",
    "**Strategy 1**: Incrementing an index using range\n"
   ]
  },
  {
   "cell_type": "code",
   "execution_count": null,
   "metadata": {
    "collapsed": true
   },
   "outputs": [],
   "source": [
    "prot_code = ['O13572','Q12346','O13583','P32329','Q12303','P53057']\n",
    "prot_length = [173,211,123,569,508,165]\n",
    "for element in range(len(prot_code)):\n",
    "    print (element, prot_code[element], prot_length[element])"
   ]
  },
  {
   "cell_type": "markdown",
   "metadata": {},
   "source": [
    "**Strategy 2**: Using enumerate(list): return two values, the index and the value at this index"
   ]
  },
  {
   "cell_type": "code",
   "execution_count": null,
   "metadata": {
    "collapsed": true
   },
   "outputs": [],
   "source": [
    "for index, code in enumerate(prot_code):\n",
    "    print (index, code, prot_length[index])"
   ]
  },
  {
   "cell_type": "markdown",
   "metadata": {},
   "source": [
    "**Strategy 3**: Using zip(list1,list2): concatenate the values of several list"
   ]
  },
  {
   "cell_type": "code",
   "execution_count": null,
   "metadata": {
    "collapsed": true
   },
   "outputs": [],
   "source": [
    "# But we aren't giving the index here...\n",
    "for code, length in zip(prot_code, prot_length):\n",
    "    print (code, length)"
   ]
  },
  {
   "cell_type": "markdown",
   "metadata": {},
   "source": [
    "---\n",
    "\n",
    "## Functions ##\n",
    "\n",
    "A function is a block of organised, reusable code that is used to perform a single, related action.\n",
    "\n",
    "There are several good reason why you should organise your code by writing functions:\n",
    " \n",
    " * allows you to reuse your code at different places in your code,\n",
    " * makes your code easier to understand, and\n",
    " * allows you to identify bugs more easily (and also by not duplicating code preventing new bugs).\n",
    "\n",
    "\n",
    "**Function syntax**\n",
    "\n",
    "```python\n",
    "   def afunction (param1, param2, ...):\n",
    "       do something with the parameters\n",
    "       do more things with the parameters\n",
    "   return value\n",
    "\n",
    "   # Calling the function\n",
    "   var = afunction(10, 2e-3, \"PE1290\")\n",
    "```\n",
    "\n",
    "**Example:**"
   ]
  },
  {
   "cell_type": "code",
   "execution_count": null,
   "metadata": {
    "collapsed": true
   },
   "outputs": [],
   "source": [
    "def is_DNA(seq):\n",
    "    not_DNA = \"QWERYUIOPSDFHJKLZXVBNM\"\n",
    "    for aa in not_DNA:\n",
    "        if aa in seq:\n",
    "            return False\n",
    "    return True\n",
    "\n",
    "print (is_DNA(\"GTTCGACCA\"))"
   ]
  },
  {
   "cell_type": "markdown",
   "metadata": {},
   "source": [
    "**About return**\n",
    "\n",
    "A value (integer, float, string, object...) is sent back from the function using the `return` statement.\n",
    "\n",
    "The `return` statement could happen at any point in the function definition and will terminate the function execution (the example above has two `return` statements, i.e. two possible termination points of the function).\n"
   ]
  },
  {
   "cell_type": "markdown",
   "metadata": {},
   "source": [
    "---\n",
    "\n",
    "## Reading, parsing and writing formatted text files ##\n",
    "\n",
    "A common task in bioinformatics is to write scripts that parse data stored in formatted files. Here are some standard procedures to read and write files as well as some tips how to parse formatted (tab, csv, etc.) files.\n",
    "\n",
    "The syntax for opening text files, reading text files and writing to them is relatively standard. You could use the following examples as recipes.\n",
    "\n",
    "\n",
    "### Reading text files ###\n",
    "\n",
    "Recipe:\n",
    "\n",
    "```python\n",
    "    in_file = open(\"filename\", 'r')\n",
    "    idx = 0\n",
    "    for aline in in_file:\n",
    "        idx += 1\n",
    "        print (idx, aline,)\n",
    "    in_file.close()\n",
    "```\n",
    "\n",
    "The keyword `open` is used to open file called `filename` and return a file handle in the `read (r)` mode, which is stored in the variable `in_file`. The `for` loop then reads each line of the file, and stores each line in turn in the variable `aline`. In the `for` loop, the index (`idx`) of the line as well as the line (the contents of `aline`) itself is printed. Finally, the file has to be closed using `.close().\n",
    "\n",
    "\n",
    "### Writing text files ###\n",
    "\n",
    "Writing text into files uses very similar syntax to reading files. Instead of printing via `print` you use the `.write()` method of a open file handle (in `write, (w)` mode).\n",
    "\n",
    "Recipe: the following code writes each value found in the list `data` onto a different line to the output file named `outfile.txt`\n",
    "\n",
    "```python\n",
    "   data = [\"P1231\", \"P234234\", \"O89098\"]\n",
    "   fh = open(\"outfile.txt\", \"w\")\n",
    "   for element in data:\n",
    "       fh.write(element+\"\\n\")\n",
    "   fh.close()\n",
    "```\n",
    "\n",
    "**Gotchas**\n",
    "\n",
    "The carriage return character `\\n` (i.e. go to the next line) has to be explicitly appended to each line of output. This is different behaviour than the command print that adds a carriage return (newline) character. \n",
    "\n",
    "Only strings can be passed to the `.write()` function. Data of other types will need to be converted into strings (e.g. `str(100.0)`).\n",
    "\n",
    "\n",
    "### Parsing structured text from files ###\n",
    "\n",
    "Parsing is about reading data in one format so that you can use it to your needs.\n",
    "\n",
    "The function `split()`, of string types, is very useful for parsing formatted files in which the data is formatted into columns (i.e. data fields are organised in columns separated by spaces, tabs or commas (delimeters).) \n",
    "\n",
    "Below is an example of a column formatted text file (`cyclotide.txt`):\n",
    "\n",
    "```\n",
    "1 kalata_B1 GLPVCGETCVGGTCNTPGCTCSWPVCTRN\n",
    "2 cycloviolacin_O1 GIPCAESCVYIPCTVTALLGCSCSNRVCYN\n",
    "4 kalata_B2 GLPVCGETCFGGTCNTPGCSCTWPICTRD\n",
    "5 palicourein GDPTFCGETCRVIPVCTYSAALGCTCDDRSDGLCKRN\n",
    "6 vhr1 GIPCAESCVWIPCTVTALLGCSCSNKVCYN\n",
    "7 tricyclon_A GGTIFDCGESCFLGTCYTKGCSCGEWKLCYGTN\n",
    "8 circulin_A GIPCGESCVWIPCISAALGCSCKNKVCYRN\n",
    "21 cycloviolacin_O2 GIPCGESCVWIPCISSAIGCSCKSKVCYRN\n",
    "24 kalata_B6 GLPTCGETCFGGTCNTPGCSCSSWPICTRN\n",
    "25 kalata_B3 GLPTCGETCFGGTCNTPGCTCDPWPICTRD\n",
    "26 kalata_B7 GLPVCGETCTLGTCYTQGCTCSWPICKRN\n",
    "27 cycloviolacin_O8 GTLPCGESCVWIPCISSVVGCSCKSKVCYKN\n",
    "28 cycloviolacin_O11 GTLPCGESCVWIPCISAVVGCSCKSKVCYKN\n",
    "30 kalata_B4 GLPVCGETCVGGTCNTPGCTCSWPVCTRD\n",
    "31 vodo_M GAPICGESCFTGKCYTVQCSCSWPVCTRN\n",
    "32 cyclopsychotride_A SIPCGESCVFIPCTVTALLGCSCKSKVCYKN\n",
    "33 cycloviolacin_H1 GIPCGESCVYIPCLTSAIGCSCKSKVCYRN\n",
    "...\n",
    "```\n",
    "\n",
    "You could use the following code to extract the data in each column:\n",
    "\n",
    "```python \n",
    "   in_file = open(\"cyclotide.txt\", 'r')\n",
    "   for line in in_file:\n",
    "       fields = line.strip().split()\n",
    "       print(fields[0], fields[1], fields[2])\n",
    "   in_file.close()\n",
    "```\n",
    "\n",
    "\n",
    "The line `fields = line.strip().split()` performs the parsing of each line. The `strip()` functions removes both the carriage return (\\\\n character) at the end of the line as well as leading and trailing whitespace. The `split()` then creates a list of elements containing each space separated element in the line.\n",
    "\n",
    "Read the help provided for `strip()` and `split()` functions:"
   ]
  },
  {
   "cell_type": "code",
   "execution_count": null,
   "metadata": {
    "collapsed": true
   },
   "outputs": [],
   "source": [
    "help(str)"
   ]
  },
  {
   "cell_type": "markdown",
   "metadata": {},
   "source": [
    "The first iteration of the for loop and the parsing logic will result in a list, `fields` of length 3 with:\n",
    " * fields[0] containing \"1\",\n",
    " * fields[1] containing \"kalata_B1\", and \n",
    " * fields[2] containing \"GLPVCGETCVGGTCNTPGCTCSWPVCTRN\"\n",
    "\n",
    "Note, that the integer index is a `str` type. You will most likely want to convert it to an int using `fields[0] = int(fields[0])`.\n",
    "\n",
    "**Importance of choosing delimiters**\n",
    "\n",
    "This recipe will fail if the fields contain variable numbers of blanks spaces (\"kalata B1\" instead of kalata_B1) as the `.split()` function will interpret it as several fields. If the fields are separated by something else other than blank spaces, for example tabs, then the fields could be retrieved using code that passes the delimiter to the `split()` function. \n",
    "\n",
    "For example the following file is tab separated:\n",
    "\n",
    "(Note: this command will not work if you are working in Windows - we recommend instead using a text editor to view the file)"
   ]
  },
  {
   "cell_type": "code",
   "execution_count": null,
   "metadata": {
    "collapsed": true
   },
   "outputs": [],
   "source": [
    "%cat data.txt"
   ]
  },
  {
   "cell_type": "markdown",
   "metadata": {},
   "source": [
    "You could modify the previous example to parse the elements of each line (\"\\t\" is the value for a 'tab' in Python):"
   ]
  },
  {
   "cell_type": "code",
   "execution_count": null,
   "metadata": {
    "collapsed": true
   },
   "outputs": [],
   "source": [
    "in_file = open(\"data.txt\")\n",
    "for line in in_file:\n",
    "    fields = line.strip().split(\"\\t\")\n",
    "    print (fields[1], int(fields[3])-int(fields[2]))\n",
    "in_file.close()"
   ]
  },
  {
   "cell_type": "markdown",
   "metadata": {},
   "source": [
    "In the first iteration of the `for` loop, `fields` will contain \n",
    "```\n",
    "[\"P8096HYR\",\"Transcription factor from plant\",\"1\",\"21\",\"MREVHLLLLLVL\"]\n",
    "```. See how the second element contains spaces but was not split into\n",
    "several fields by `.split()`. Note also how the keyword `int` was used to convert `string` field elements into an integer. Remember that elements extracted by `split()` are of type `string`, and if you want to use numerical \n",
    "values that have been extracted you need to convert the string into integer or a float values.\n",
    "\n",
    "For more information on special string literals such as `'\\t'` see section 2.4.1 in the [Python documentation].\n",
    "\n",
    "[Python documentation]: https://docs.python.org/3.6/reference/lexical_analysis.html\n",
    "\n",
    "**Parsing complex files**\n",
    "\n",
    "Databases from EBI or NCBI provide data as flat files. For example an UniProt flat file looks like this:\n",
    "(Note: this command will not work if you are working in Windows - we recommend instead using a text editor to view the file)"
   ]
  },
  {
   "cell_type": "code",
   "execution_count": null,
   "metadata": {
    "collapsed": true
   },
   "outputs": [],
   "source": [
    "%cat uniprot_example.embl"
   ]
  },
  {
   "cell_type": "markdown",
   "metadata": {},
   "source": [
    "Accessing information from these types of files is slightly more complicated than from column formatted or tab separated text. Here the lines have to be tested for certain criteria (using `if` statements) that allows to pinpoint the lines of interest. For example, to extract from the previous file, the identifier, the organism, the molecular weight and the sequence, we could inspect the first two characters of each line as these allow identification of lines of interest.\n",
    "\n",
    "**Simple EMBL format parser:**"
   ]
  },
  {
   "cell_type": "code",
   "execution_count": null,
   "metadata": {
    "collapsed": true
   },
   "outputs": [],
   "source": [
    "ident =\"\"\n",
    "organism = \"\"\n",
    "m_weight = 0\n",
    "seq = \"\"\n",
    "\n",
    "in_file = open(\"uniprot_example.embl\")\n",
    "for line in in_file:\n",
    "    fields = line.strip().split()\n",
    "    if line[0:2] == \"ID\":\n",
    "        ident = fields[1]\n",
    "    if line[0:2] == \"OS\":\n",
    "        organism = line[5:].strip()\n",
    "    if line[0:2] == \"SQ\":\n",
    "        m_weight = int(fields[4])\n",
    "    if line[0:2] == \"  \":\n",
    "        seq += line.replace(\" \",\"\").strip()\n",
    "in_file.close()\n",
    "\n",
    "print(ident, organism, m_weight, seq)"
   ]
  },
  {
   "cell_type": "markdown",
   "metadata": {},
   "source": [
    "You could also use `str.startswith()`. Investigate how it works:"
   ]
  },
  {
   "cell_type": "code",
   "execution_count": null,
   "metadata": {
    "collapsed": true
   },
   "outputs": [],
   "source": [
    "help(str)"
   ]
  },
  {
   "cell_type": "markdown",
   "metadata": {},
   "source": [
    "\n",
    "---\n",
    "\n",
    "## Using Python libraries ##\n",
    "\n",
    "Python libraries are Python files that contain definitions of functions and objects. These functions and\n",
    "objects can be used within your code by importing them with the `import` keyword. \n",
    "\n",
    "There are a large number of available python libraries that you can use. Some of the standard python libraries (that come with Python by default) that you should consider learning are `sys` (system), `os` (operating system) and `re` (regular expressions). We have written libraries that we will use during this course, please see `reference_guide.ipynb` for brief introduction.\n",
    "\n",
    "One of the most popular and well used Python bioinformatics libraries is [BioPython]. You can search for publicly available libraries on the [Python Package Index] (PyPI).\n",
    "\n",
    "[BioPython]: http://biopython.org/\n",
    "[Python Package Index]: https://pypi.python.org/pypi"
   ]
  },
  {
   "cell_type": "code",
   "execution_count": null,
   "metadata": {
    "collapsed": true
   },
   "outputs": [],
   "source": [
    "# Help on the sys module. \n",
    "# You need to import it first.\n",
    "import sys\n",
    "help(sys)"
   ]
  },
  {
   "cell_type": "markdown",
   "metadata": {},
   "source": [
    "---\n",
    "\n",
    "<a id='appendix_notebooks'></a>\n",
    "## Appendix: An introduction to notebooks\n",
    "\n",
    "We assume that you have installed a Python distribution with IPython, and that you are now in an IPython/Jupyter notebook. Type in a cell the following command, and press `Shift+Enter` to validate it:"
   ]
  },
  {
   "cell_type": "code",
   "execution_count": null,
   "metadata": {
    "collapsed": true
   },
   "outputs": [],
   "source": [
    "print(\"Hello world!\")"
   ]
  },
  {
   "cell_type": "markdown",
   "metadata": {},
   "source": [
    "A notebook contains a linear succession of **cells** and **output areas**. A cell contains Python code, in one or multiple lines. The output of the code is shown in the corresponding output area.\n",
    "\n",
    "Now, we do a simple arithmetic operation."
   ]
  },
  {
   "cell_type": "code",
   "execution_count": null,
   "metadata": {
    "collapsed": true
   },
   "outputs": [],
   "source": [
    "2+2"
   ]
  },
  {
   "cell_type": "markdown",
   "metadata": {},
   "source": [
    "The result of the operation is shown in the output area. Let's be more precise. The output area not only displays text that is printed by any command in the cell, it also displays a text representation of the last returned object. Here, the last returned object is the result of 2+2, i.e. 4.\n",
    "\n",
    "In the next cell, we can recover the value of the last returned object with the _ (underscore) special variable. In practice, it may be more convenient to assign objects to named variables, like in myresult = 2+2."
   ]
  },
  {
   "cell_type": "code",
   "execution_count": null,
   "metadata": {
    "collapsed": true
   },
   "outputs": [],
   "source": [
    "_ * 3"
   ]
  },
  {
   "cell_type": "markdown",
   "metadata": {},
   "source": [
    "IPython not only accepts Python code, but also shell commands. Those are defined by the operating system (Windows, Linux, Mac OS X, etc.). We first type ! in a cell before typing the shell command. Here, we get the list of notebooks in the current directory."
   ]
  },
  {
   "cell_type": "code",
   "execution_count": null,
   "metadata": {
    "collapsed": true
   },
   "outputs": [],
   "source": [
    "!ls *.ipynb"
   ]
  },
  {
   "cell_type": "markdown",
   "metadata": {},
   "source": [
    "IPython comes with a library of **magic commands**. Those commands are convenient shortcuts to common actions. They all start with `%` (percent character). You can get the list of all magic commands with `%lsmagic`."
   ]
  },
  {
   "cell_type": "code",
   "execution_count": null,
   "metadata": {
    "collapsed": true
   },
   "outputs": [],
   "source": [
    "%lsmagic"
   ]
  },
  {
   "cell_type": "markdown",
   "metadata": {},
   "source": [
    "Cell magic have a `%%` prefix: they apply to an entire cell in the notebook.\n",
    "\n",
    "For example, the `%%writefile` cell magic lets you create a text file easily. This magic command accepts a filename as argument. All remaining lines in the cell are directly written to this text file. Here, we create a file `test.txt` and we write `Hello world!` in it."
   ]
  },
  {
   "cell_type": "code",
   "execution_count": null,
   "metadata": {
    "collapsed": true
   },
   "outputs": [],
   "source": [
    "%%writefile test.txt\n",
    "Hello world!"
   ]
  },
  {
   "cell_type": "code",
   "execution_count": null,
   "metadata": {
    "collapsed": true
   },
   "outputs": [],
   "source": [
    "# Let's check what this file contains.\n",
    "with open('test.txt', 'r') as f:\n",
    "    print(f.read())"
   ]
  },
  {
   "cell_type": "markdown",
   "metadata": {},
   "source": [
    "As you can see in the output of `%lsmagic`, there are many magic commands in IPython. You can find more information about any command by adding a `?` after it. For example, here is how we get help about the `%run` magic command:"
   ]
  },
  {
   "cell_type": "code",
   "execution_count": null,
   "metadata": {
    "collapsed": true
   },
   "outputs": [],
   "source": [
    "%run?"
   ]
  },
  {
   "cell_type": "markdown",
   "metadata": {},
   "source": [
    "We covered the basics of IPython and the notebook. Let's now turn to the rich display and interactive features of the notebook. Until now, we only created code cells, i.e. cells that contain... code. There are other types of cells, notably Markdown cells. Those contain rich text formatted with Markdown, a popular plain text formatting syntax. This format supports normal text, headers, bold, italics, hypertext links, images, mathematical equations in LaTeX, code, HTML elements, and other features, as shown below."
   ]
  },
  {
   "cell_type": "markdown",
   "metadata": {},
   "source": [
    "### New paragraph\n",
    "\n",
    "This is *rich* **text** with [links](http://ipython.org), equations:\n",
    "\n",
    "$$\\hat{f}(\\xi) = \\int_{-\\infty}^{+\\infty} f(x)\\, \\mathrm{e}^{-i \\xi x}$$\n",
    "\n",
    "code with syntax highlighting:\n",
    "\n",
    "```python\n",
    "print(\"Hello world!\")\n",
    "```\n",
    "\n",
    "and images:\n",
    "\n",
    "![This is an image](http://ipython.org/_static/IPy_header.png)"
   ]
  },
  {
   "cell_type": "markdown",
   "metadata": {},
   "source": [
    "By combining code cells and Markdown cells, you can create a standalone interactive document that combines computations (code), text and graphics."
   ]
  },
  {
   "cell_type": "code",
   "execution_count": null,
   "metadata": {
    "collapsed": true
   },
   "outputs": [],
   "source": []
  }
 ],
 "metadata": {
  "kernelspec": {
   "display_name": "Python 3",
   "language": "python",
   "name": "python3"
  },
  "language_info": {
   "codemirror_mode": {
    "name": "ipython",
    "version": 3
   },
   "file_extension": ".py",
   "mimetype": "text/x-python",
   "name": "python",
   "nbconvert_exporter": "python",
   "pygments_lexer": "ipython3",
   "version": "3.7.6"
  }
 },
 "nbformat": 4,
 "nbformat_minor": 1
}
